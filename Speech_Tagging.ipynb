{
  "nbformat": 4,
  "nbformat_minor": 0,
  "metadata": {
    "colab": {
      "name": "Speech_Tagging.ipynb",
      "provenance": [],
      "collapsed_sections": []
    },
    "kernelspec": {
      "name": "python3",
      "display_name": "Python 3"
    },
    "accelerator": "GPU"
  },
  "cells": [
    {
      "cell_type": "code",
      "metadata": {
        "id": "SVOEWHblUZEL",
        "colab_type": "code",
        "colab": {}
      },
      "source": [
        "!mv kaggle.json /root/.kaggle/"
      ],
      "execution_count": null,
      "outputs": []
    },
    {
      "cell_type": "code",
      "metadata": {
        "id": "ch5vXCmux0Tk",
        "colab_type": "code",
        "colab": {
          "base_uri": "https://localhost:8080/",
          "height": 105
        },
        "outputId": "9560c121-0759-419e-f5ef-93323781a413"
      },
      "source": [
        "!kaggle datasets download -d abhinavwalia95/entity-annotated-corpus"
      ],
      "execution_count": null,
      "outputs": [
        {
          "output_type": "stream",
          "text": [
            "Warning: Your Kaggle API key is readable by other users on this system! To fix this, you can run 'chmod 600 /root/.kaggle/kaggle.json'\n",
            "Downloading entity-annotated-corpus.zip to /content\n",
            " 64% 17.0M/26.4M [00:00<00:00, 28.9MB/s]\n",
            "100% 26.4M/26.4M [00:00<00:00, 45.0MB/s]\n"
          ],
          "name": "stdout"
        }
      ]
    },
    {
      "cell_type": "code",
      "metadata": {
        "id": "ctpl_vMEzjqh",
        "colab_type": "code",
        "colab": {
          "base_uri": "https://localhost:8080/",
          "height": 68
        },
        "outputId": "020c0eba-62d2-4da9-97a3-c290a78875b3"
      },
      "source": [
        "!unzip '/content/entity-annotated-corpus.zip'"
      ],
      "execution_count": null,
      "outputs": [
        {
          "output_type": "stream",
          "text": [
            "Archive:  /content/entity-annotated-corpus.zip\n",
            "  inflating: ner.csv                 \n",
            "  inflating: ner_dataset.csv         \n"
          ],
          "name": "stdout"
        }
      ]
    },
    {
      "cell_type": "code",
      "metadata": {
        "id": "i_yfkJzAzwIZ",
        "colab_type": "code",
        "colab": {}
      },
      "source": [
        "import pandas as pd\n",
        "import numpy as np\n",
        "import re\n",
        "import nltk\n",
        "import random"
      ],
      "execution_count": 122,
      "outputs": []
    },
    {
      "cell_type": "code",
      "metadata": {
        "id": "J30IN1-w0lpC",
        "colab_type": "code",
        "colab": {}
      },
      "source": [
        "dataset=pd.read_csv('/content/ner_dataset.csv',encoding='cp1252', error_bad_lines=False)"
      ],
      "execution_count": 6,
      "outputs": []
    },
    {
      "cell_type": "code",
      "metadata": {
        "id": "h3uR4n0J1FTs",
        "colab_type": "code",
        "colab": {
          "base_uri": "https://localhost:8080/",
          "height": 359
        },
        "outputId": "acaaac95-b53f-42e0-f061-f72c5a919ff9"
      },
      "source": [
        "dataset.head(10)"
      ],
      "execution_count": 7,
      "outputs": [
        {
          "output_type": "execute_result",
          "data": {
            "text/html": [
              "<div>\n",
              "<style scoped>\n",
              "    .dataframe tbody tr th:only-of-type {\n",
              "        vertical-align: middle;\n",
              "    }\n",
              "\n",
              "    .dataframe tbody tr th {\n",
              "        vertical-align: top;\n",
              "    }\n",
              "\n",
              "    .dataframe thead th {\n",
              "        text-align: right;\n",
              "    }\n",
              "</style>\n",
              "<table border=\"1\" class=\"dataframe\">\n",
              "  <thead>\n",
              "    <tr style=\"text-align: right;\">\n",
              "      <th></th>\n",
              "      <th>Sentence #</th>\n",
              "      <th>Word</th>\n",
              "      <th>POS</th>\n",
              "      <th>Tag</th>\n",
              "    </tr>\n",
              "  </thead>\n",
              "  <tbody>\n",
              "    <tr>\n",
              "      <th>0</th>\n",
              "      <td>Sentence: 1</td>\n",
              "      <td>Thousands</td>\n",
              "      <td>NNS</td>\n",
              "      <td>O</td>\n",
              "    </tr>\n",
              "    <tr>\n",
              "      <th>1</th>\n",
              "      <td>NaN</td>\n",
              "      <td>of</td>\n",
              "      <td>IN</td>\n",
              "      <td>O</td>\n",
              "    </tr>\n",
              "    <tr>\n",
              "      <th>2</th>\n",
              "      <td>NaN</td>\n",
              "      <td>demonstrators</td>\n",
              "      <td>NNS</td>\n",
              "      <td>O</td>\n",
              "    </tr>\n",
              "    <tr>\n",
              "      <th>3</th>\n",
              "      <td>NaN</td>\n",
              "      <td>have</td>\n",
              "      <td>VBP</td>\n",
              "      <td>O</td>\n",
              "    </tr>\n",
              "    <tr>\n",
              "      <th>4</th>\n",
              "      <td>NaN</td>\n",
              "      <td>marched</td>\n",
              "      <td>VBN</td>\n",
              "      <td>O</td>\n",
              "    </tr>\n",
              "    <tr>\n",
              "      <th>5</th>\n",
              "      <td>NaN</td>\n",
              "      <td>through</td>\n",
              "      <td>IN</td>\n",
              "      <td>O</td>\n",
              "    </tr>\n",
              "    <tr>\n",
              "      <th>6</th>\n",
              "      <td>NaN</td>\n",
              "      <td>London</td>\n",
              "      <td>NNP</td>\n",
              "      <td>B-geo</td>\n",
              "    </tr>\n",
              "    <tr>\n",
              "      <th>7</th>\n",
              "      <td>NaN</td>\n",
              "      <td>to</td>\n",
              "      <td>TO</td>\n",
              "      <td>O</td>\n",
              "    </tr>\n",
              "    <tr>\n",
              "      <th>8</th>\n",
              "      <td>NaN</td>\n",
              "      <td>protest</td>\n",
              "      <td>VB</td>\n",
              "      <td>O</td>\n",
              "    </tr>\n",
              "    <tr>\n",
              "      <th>9</th>\n",
              "      <td>NaN</td>\n",
              "      <td>the</td>\n",
              "      <td>DT</td>\n",
              "      <td>O</td>\n",
              "    </tr>\n",
              "  </tbody>\n",
              "</table>\n",
              "</div>"
            ],
            "text/plain": [
              "    Sentence #           Word  POS    Tag\n",
              "0  Sentence: 1      Thousands  NNS      O\n",
              "1          NaN             of   IN      O\n",
              "2          NaN  demonstrators  NNS      O\n",
              "3          NaN           have  VBP      O\n",
              "4          NaN        marched  VBN      O\n",
              "5          NaN        through   IN      O\n",
              "6          NaN         London  NNP  B-geo\n",
              "7          NaN             to   TO      O\n",
              "8          NaN        protest   VB      O\n",
              "9          NaN            the   DT      O"
            ]
          },
          "metadata": {
            "tags": []
          },
          "execution_count": 7
        }
      ]
    },
    {
      "cell_type": "code",
      "metadata": {
        "id": "wS4XUey4YirZ",
        "colab_type": "code",
        "colab": {
          "base_uri": "https://localhost:8080/",
          "height": 35
        },
        "outputId": "5a91ea5b-95b1-4d4c-a961-8f07cf73c1a2"
      },
      "source": [
        "' '.join(dataset.iloc[0:5,1].values)"
      ],
      "execution_count": 8,
      "outputs": [
        {
          "output_type": "execute_result",
          "data": {
            "application/vnd.google.colaboratory.intrinsic+json": {
              "type": "string"
            },
            "text/plain": [
              "'Thousands of demonstrators have marched'"
            ]
          },
          "metadata": {
            "tags": []
          },
          "execution_count": 8
        }
      ]
    },
    {
      "cell_type": "code",
      "metadata": {
        "id": "efxa0HOz6B9s",
        "colab_type": "code",
        "colab": {}
      },
      "source": [
        "data=dataset.iloc[:,:3].values"
      ],
      "execution_count": 9,
      "outputs": []
    },
    {
      "cell_type": "code",
      "metadata": {
        "id": "qpNiQtDu6oCq",
        "colab_type": "code",
        "colab": {
          "base_uri": "https://localhost:8080/",
          "height": 680
        },
        "outputId": "3cbf0aa9-fc07-47a4-b3cc-3cc03089ad9b"
      },
      "source": [
        "data[1:40]"
      ],
      "execution_count": 10,
      "outputs": [
        {
          "output_type": "execute_result",
          "data": {
            "text/plain": [
              "array([[nan, 'of', 'IN'],\n",
              "       [nan, 'demonstrators', 'NNS'],\n",
              "       [nan, 'have', 'VBP'],\n",
              "       [nan, 'marched', 'VBN'],\n",
              "       [nan, 'through', 'IN'],\n",
              "       [nan, 'London', 'NNP'],\n",
              "       [nan, 'to', 'TO'],\n",
              "       [nan, 'protest', 'VB'],\n",
              "       [nan, 'the', 'DT'],\n",
              "       [nan, 'war', 'NN'],\n",
              "       [nan, 'in', 'IN'],\n",
              "       [nan, 'Iraq', 'NNP'],\n",
              "       [nan, 'and', 'CC'],\n",
              "       [nan, 'demand', 'VB'],\n",
              "       [nan, 'the', 'DT'],\n",
              "       [nan, 'withdrawal', 'NN'],\n",
              "       [nan, 'of', 'IN'],\n",
              "       [nan, 'British', 'JJ'],\n",
              "       [nan, 'troops', 'NNS'],\n",
              "       [nan, 'from', 'IN'],\n",
              "       [nan, 'that', 'DT'],\n",
              "       [nan, 'country', 'NN'],\n",
              "       [nan, '.', '.'],\n",
              "       ['Sentence: 2', 'Families', 'NNS'],\n",
              "       [nan, 'of', 'IN'],\n",
              "       [nan, 'soldiers', 'NNS'],\n",
              "       [nan, 'killed', 'VBN'],\n",
              "       [nan, 'in', 'IN'],\n",
              "       [nan, 'the', 'DT'],\n",
              "       [nan, 'conflict', 'NN'],\n",
              "       [nan, 'joined', 'VBD'],\n",
              "       [nan, 'the', 'DT'],\n",
              "       [nan, 'protesters', 'NNS'],\n",
              "       [nan, 'who', 'WP'],\n",
              "       [nan, 'carried', 'VBD'],\n",
              "       [nan, 'banners', 'NNS'],\n",
              "       [nan, 'with', 'IN'],\n",
              "       [nan, 'such', 'JJ'],\n",
              "       [nan, 'slogans', 'NNS']], dtype=object)"
            ]
          },
          "metadata": {
            "tags": []
          },
          "execution_count": 10
        }
      ]
    },
    {
      "cell_type": "code",
      "metadata": {
        "id": "K_8Mr8di6paD",
        "colab_type": "code",
        "colab": {}
      },
      "source": [
        "current=0\n",
        "for i in range(data.shape[0]):\n",
        "  if(type(data[i,0])==str):\n",
        "    current=current+1\n",
        "  data[i,0]=current"
      ],
      "execution_count": 11,
      "outputs": []
    },
    {
      "cell_type": "code",
      "metadata": {
        "id": "EiMgzHnXT6xO",
        "colab_type": "code",
        "colab": {}
      },
      "source": [
        "vocab=dict([ (v,k) for (k,v) in list(enumerate(set([x.lower() for x in list(set(dataset.iloc[:,1].values))])))] )\n",
        "tags=dict([ (v,k) for (k,v) in enumerate(list(set(dataset.iloc[:,2].values))) ] )\n",
        "\n",
        "tag_reverse=dict([(v,k) for (k,v) in list(tags.items()) ])\n",
        "vocab_reverse=dict([(v,k) for (k,v) in list(vocab.items()) ])"
      ],
      "execution_count": 288,
      "outputs": []
    },
    {
      "cell_type": "code",
      "metadata": {
        "id": "mLr08eP59GRc",
        "colab_type": "code",
        "colab": {
          "base_uri": "https://localhost:8080/",
          "height": 34
        },
        "outputId": "a09ed202-54c3-497b-cc00-a034240afbdf"
      },
      "source": [
        "len(tags)"
      ],
      "execution_count": 17,
      "outputs": [
        {
          "output_type": "execute_result",
          "data": {
            "text/plain": [
              "42"
            ]
          },
          "metadata": {
            "tags": []
          },
          "execution_count": 17
        }
      ]
    },
    {
      "cell_type": "code",
      "metadata": {
        "id": "WrqC9y6p9Urf",
        "colab_type": "code",
        "colab": {}
      },
      "source": [
        "Transitions=np.zeros((len(tags)+1,len(tags)))"
      ],
      "execution_count": 18,
      "outputs": []
    },
    {
      "cell_type": "code",
      "metadata": {
        "id": "Z5LvhWbA91Ho",
        "colab_type": "code",
        "colab": {}
      },
      "source": [
        "#Populate Transitions\n",
        "\n",
        "for i in range(1,data.shape[0]-1):\n",
        "  first=tags[data[i,2]]\n",
        "  second=tags[data[i+1,2]]\n",
        "\n",
        "  Transitions[first,second]+=1"
      ],
      "execution_count": 21,
      "outputs": []
    },
    {
      "cell_type": "code",
      "metadata": {
        "id": "k1fz1kvoCNTw",
        "colab_type": "code",
        "colab": {}
      },
      "source": [
        "for i in range(data.shape[0]-1):\n",
        "  if data[i,0]-data[i+1,0]!=0 :\n",
        "    Transitions[0,tags[data[i+1,2]]]+=1\n"
      ],
      "execution_count": 22,
      "outputs": []
    },
    {
      "cell_type": "code",
      "metadata": {
        "id": "6L8ozr85DZA8",
        "colab_type": "code",
        "colab": {}
      },
      "source": [
        "Transitions+=1e-5"
      ],
      "execution_count": 23,
      "outputs": []
    },
    {
      "cell_type": "code",
      "metadata": {
        "id": "WNFipHLGA8ir",
        "colab_type": "code",
        "colab": {}
      },
      "source": [
        "for i in range(0,Transitions.shape[0]):\n",
        "  sum=0\n",
        "  for j in range(0,Transitions.shape[1]):\n",
        "    sum+=Transitions[i,j]\n",
        "  Transitions[i]=Transitions[i]/sum"
      ],
      "execution_count": 24,
      "outputs": []
    },
    {
      "cell_type": "code",
      "metadata": {
        "id": "QK4h8fcbDu8B",
        "colab_type": "code",
        "colab": {
          "base_uri": "https://localhost:8080/",
          "height": 34
        },
        "outputId": "2cc0a0d7-bf36-4c9b-e430-44d21d2c1150"
      },
      "source": [
        "Transitions.shape"
      ],
      "execution_count": 25,
      "outputs": [
        {
          "output_type": "execute_result",
          "data": {
            "text/plain": [
              "(43, 42)"
            ]
          },
          "metadata": {
            "tags": []
          },
          "execution_count": 25
        }
      ]
    },
    {
      "cell_type": "code",
      "metadata": {
        "id": "jwBNNO0jLIzg",
        "colab_type": "code",
        "colab": {}
      },
      "source": [
        "Emissions=np.zeros((len(tags),len(vocab)))"
      ],
      "execution_count": 26,
      "outputs": []
    },
    {
      "cell_type": "code",
      "metadata": {
        "id": "3ils6lJGLQhS",
        "colab_type": "code",
        "colab": {}
      },
      "source": [
        "for i in range(data.shape[0]):\n",
        "  Emissions[tags[data[i,2]],vocab[data[i,1].lower()]]+=1"
      ],
      "execution_count": 27,
      "outputs": []
    },
    {
      "cell_type": "code",
      "metadata": {
        "id": "OW0GmibDMfrd",
        "colab_type": "code",
        "colab": {}
      },
      "source": [
        "Emissions+=1e-5\n",
        "for i in range(Emissions.shape[0]):\n",
        "  sum=0\n",
        "  for j in range(Emissions.shape[1]):\n",
        "    sum+=Emissions[i,j]\n",
        "  Emissions[i]=Emissions[i]/sum"
      ],
      "execution_count": 28,
      "outputs": []
    },
    {
      "cell_type": "code",
      "metadata": {
        "id": "-0z8E4kabnj1",
        "colab_type": "code",
        "colab": {}
      },
      "source": [
        "def predict_POS(statement):\n",
        "  statement=statement.lower()\n",
        "  words=(nltk.tokenize.TweetTokenizer()).tokenize(statement)\n",
        "\n",
        "  # Viterbi Inits\n",
        "  C=np.zeros((len(tags),len(words)))\n",
        "  D=np.zeros((len(tags),len(words)),dtype=int)\n",
        "\n",
        "  # Assign Initials..\n",
        "  if words[0] in vocab :\n",
        "    C[:,0]=Transitions[0,:]*Emissions[:,vocab[words[0]]]\n",
        "  else :\n",
        "    C[:,0]=Transitions[0,:]*1.0\n",
        "  D[:,0]=-1\n",
        "\n",
        "  # Populating C and D \n",
        "\n",
        "  for i in range(0,len(tags)):\n",
        "    for j in range(1,len(words)):\n",
        "      try:\n",
        "        temp=[(C[k,j-1])*Transitions[k+1,i]*Emissions[i,vocab[words[j]]] for k in range(len(tags)) ]\n",
        "        C[i,j]=np.max(temp)\n",
        "        \n",
        "        D[i,j]=np.argmax(temp)\n",
        "      except :\n",
        "        temp=[(C[k,j-1])*Transitions[k+1,i]*1.0 for k in range(len(tags)) ]\n",
        "        C[i,j]=np.max(temp)\n",
        "        \n",
        "        D[i,j]=np.argmax(temp)\n",
        "\n",
        "  # BackTrack \n",
        "  result=[]\n",
        "  temp=list(C[:,C.shape[1]-1]).index(random.choices(C[:,C.shape[1]-1],C[:,C.shape[1]-1]/np.sum(C[:,C.shape[1]-1])))\n",
        "  result.append(temp)\n",
        "  for i in range(D.shape[1]-1,0,-1):\n",
        "    result.append(D[temp,i])\n",
        "    temp=list(C[:,i-1]).index(random.choices(C[:,i-1],(C[:,i-1]/np.sum(C[:,i-1])) ))\n",
        "\n",
        "  result.reverse()\n",
        "\n",
        "  \n",
        "  for i in range(len(result)):\n",
        "    result[i]=tag_reverse[result[i]]\n",
        "\n",
        "  return result\n"
      ],
      "execution_count": 289,
      "outputs": []
    },
    {
      "cell_type": "code",
      "metadata": {
        "id": "T_BR0krbech7",
        "colab_type": "code",
        "colab": {
          "base_uri": "https://localhost:8080/",
          "height": 34
        },
        "outputId": "586383f1-a4ed-4bc1-9c7f-89b4c7b56685"
      },
      "source": [
        "predict_POS('my name is gajesh ladhar')"
      ],
      "execution_count": 290,
      "outputs": [
        {
          "output_type": "execute_result",
          "data": {
            "text/plain": [
              "['PRP$', 'NN', 'VBZ', 'VBG', 'VBG']"
            ]
          },
          "metadata": {
            "tags": []
          },
          "execution_count": 290
        }
      ]
    },
    {
      "cell_type": "code",
      "metadata": {
        "id": "aHeK66abgMzP",
        "colab_type": "code",
        "colab": {
          "base_uri": "https://localhost:8080/",
          "height": 34
        },
        "outputId": "8ea35c97-d0dc-4a34-e3f0-ba49b3f5790e"
      },
      "source": [
        "#Questions Answers\n",
        "\n",
        "Q='what you ate 2 months ago'\n",
        "corpus='i eat banana 2 months ago'\n",
        "c_list=(nltk.tokenize.TweetTokenizer()).tokenize(corpus)\n",
        "q_list=(nltk.tokenize.TweetTokenizer()).tokenize(Q)\n",
        "nouns=[]\n",
        "for i,word in enumerate(predict_POS(corpus)):\n",
        "  if word==\"NN\":\n",
        "    nouns.append(c_list[i])\n",
        "for word in nouns:\n",
        "  if word in q_list:\n",
        "    nouns.remove(word)\n",
        "print(nouns)"
      ],
      "execution_count": 320,
      "outputs": [
        {
          "output_type": "stream",
          "text": [
            "['banana']\n"
          ],
          "name": "stdout"
        }
      ]
    },
    {
      "cell_type": "code",
      "metadata": {
        "id": "wMNMlPTEc83Q",
        "colab_type": "code",
        "colab": {
          "base_uri": "https://localhost:8080/",
          "height": 54
        },
        "outputId": "ab44dea3-3d8e-4f87-f9ea-49f72bcc2b4a"
      },
      "source": [
        "# Text Generation with Proper Grammer\n",
        "\n",
        "state=list(Transitions[0,:]).index(random.choices(Transitions[0,:],Transitions[0,:]))\n",
        "word=vocab_reverse[list(Emissions[state,:]).index(random.choices(Emissions[state,:],Emissions[state,:]))]\n",
        "print(word,end=' ')\n",
        "\n",
        "for i in range(40):\n",
        "  state=list(Transitions[state+1,:]).index(random.choices(Transitions[state+1,:],Transitions[state+1,:]))\n",
        "  word=vocab_reverse[list(Emissions[state,:]).index(random.choices(Emissions[state,:],Emissions[state,:]))]\n",
        "  print(word,end=' ')\n"
      ],
      "execution_count": 296,
      "outputs": [
        {
          "output_type": "stream",
          "text": [
            "it termed said wish its friday voting face the experiments one forced is temporarily health regain the of violence stop soft identify her after korean 15 killed says weeks speech not sharing announce natural a out british to has operation travel "
          ],
          "name": "stdout"
        }
      ]
    },
    {
      "cell_type": "markdown",
      "metadata": {
        "id": "SMFI5kTetXdr",
        "colab_type": "text"
      },
      "source": [
        "Testing with NLTK's Tagger\n"
      ]
    },
    {
      "cell_type": "code",
      "metadata": {
        "id": "uh3RIiLQlia5",
        "colab_type": "code",
        "colab": {
          "base_uri": "https://localhost:8080/",
          "height": 85
        },
        "outputId": "592fab29-d5bc-4b93-fe95-b016cbac7a4b"
      },
      "source": [
        "nltk.download('averaged_perceptron_tagger')"
      ],
      "execution_count": 209,
      "outputs": [
        {
          "output_type": "stream",
          "text": [
            "[nltk_data] Downloading package averaged_perceptron_tagger to\n",
            "[nltk_data]     /root/nltk_data...\n",
            "[nltk_data]   Unzipping taggers/averaged_perceptron_tagger.zip.\n"
          ],
          "name": "stdout"
        },
        {
          "output_type": "execute_result",
          "data": {
            "text/plain": [
              "True"
            ]
          },
          "metadata": {
            "tags": []
          },
          "execution_count": 209
        }
      ]
    },
    {
      "cell_type": "code",
      "metadata": {
        "id": "LontcCl4ef4t",
        "colab_type": "code",
        "colab": {
          "base_uri": "https://localhost:8080/",
          "height": 119
        },
        "outputId": "efd53bdd-c7c1-44a8-b74d-9c3b8f65f74b"
      },
      "source": [
        "nltk.pos_tag((nltk.tokenize.TweetTokenizer()).tokenize('he look very good but gajesh'))"
      ],
      "execution_count": 307,
      "outputs": [
        {
          "output_type": "execute_result",
          "data": {
            "text/plain": [
              "[('he', 'PRP'),\n",
              " ('look', 'VB'),\n",
              " ('very', 'RB'),\n",
              " ('good', 'JJ'),\n",
              " ('but', 'CC'),\n",
              " ('gajesh', 'JJ')]"
            ]
          },
          "metadata": {
            "tags": []
          },
          "execution_count": 307
        }
      ]
    },
    {
      "cell_type": "code",
      "metadata": {
        "id": "2DgKkDcKlgfp",
        "colab_type": "code",
        "colab": {
          "base_uri": "https://localhost:8080/",
          "height": 34
        },
        "outputId": "bb108590-5e61-4f7b-ad7b-f4b344c7f07a"
      },
      "source": [
        "predict_POS('he look very good but gajesh')"
      ],
      "execution_count": 306,
      "outputs": [
        {
          "output_type": "execute_result",
          "data": {
            "text/plain": [
              "['PRP', 'VB', 'JJ', 'JJ', 'CC', 'VBG']"
            ]
          },
          "metadata": {
            "tags": []
          },
          "execution_count": 306
        }
      ]
    },
    {
      "cell_type": "code",
      "metadata": {
        "id": "SiEv-xrsmITz",
        "colab_type": "code",
        "colab": {}
      },
      "source": [
        ""
      ],
      "execution_count": 224,
      "outputs": []
    }
  ]
}